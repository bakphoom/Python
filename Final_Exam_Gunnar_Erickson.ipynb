{
  "nbformat": 4,
  "nbformat_minor": 0,
  "metadata": {
    "colab": {
      "provenance": [],
      "toc_visible": true,
      "include_colab_link": true
    },
    "kernelspec": {
      "name": "python3",
      "display_name": "Python 3"
    },
    "language_info": {
      "name": "python"
    }
  },
  "cells": [
    {
      "cell_type": "markdown",
      "metadata": {
        "id": "view-in-github",
        "colab_type": "text"
      },
      "source": [
        "<a href=\"https://colab.research.google.com/github/bakphoom/Python/blob/main/Final_Exam_Gunnar_Erickson.ipynb\" target=\"_parent\"><img src=\"https://colab.research.google.com/assets/colab-badge.svg\" alt=\"Open In Colab\"/></a>"
      ]
    },
    {
      "cell_type": "code",
      "execution_count": null,
      "metadata": {
        "id": "z5RkequITDSd"
      },
      "outputs": [],
      "source": [
        "import pandas as pd\n",
        "import numpy as np\n",
        "import math\n",
        "\n",
        "import matplotlib.pyplot as plt\n",
        "%matplotlib inline\n",
        "\n",
        "from sklearn.linear_model import LinearRegression\n",
        "from sklearn.metrics import mean_squared_error\n",
        "from sklearn import metrics\n",
        "from sklearn.model_selection import train_test_split\n",
        "from sklearn.preprocessing import PolynomialFeatures\n",
        "from sklearn.pipeline import Pipeline\n",
        "from sklearn.preprocessing import StandardScaler\n",
        "from sklearn.model_selection import train_test_split\n",
        "\n",
        "\n",
        "import statsmodels.api as sm\n",
        "import statsmodels.formula.api as smf\n",
        "import seaborn as sns\n",
        "%matplotlib inline \n",
        "\n",
        "pd.set_option('display.max_columns', None)"
      ]
    },
    {
      "cell_type": "code",
      "source": [
        "def model(X=True, Y=True):\n",
        "\n",
        "  reg_model = sm.GLS(Y, X).fit()\n",
        "  #X = sm.add_constant(X,  has_constant='add')  This method did not work for me\n",
        "  Yhat = reg_model.predict(X) #This method can make predictions but we don't need them in this example\n",
        "  print(reg_model.summary())\n",
        "  plt.figure()\n",
        "  ax1 = sns.distplot(Y, hist=False, color=\"r\", label=\"Actual Value\")\n",
        "  sns.distplot(Yhat, hist=False, color=\"b\", label=\"Fitted Values\" , ax=ax1)\n",
        "  plt.legend()\n",
        "  plt.show()\n",
        "  plt.close()\n",
        "  print('log(MSE)=' + str(math.log(mean_squared_error(Yhat,Y)))) # log transform MSE to make the large numbers easier to read.  Log preserves ordinality of data - it is an \"affine transformation\"\n",
        "  return\n",
        "\n",
        "def create_dummy(Categorical=True, dataframe=True):\n",
        "  dataframe=pd.get_dummies(dataframe[Categorical]).join(dataframe)\n",
        "  return dataframe\n",
        "\n",
        "def interact(D=True, X=True, dataframe=True):\n",
        "  for j in D:\n",
        "    for k in X:\n",
        "      dataframe[j+'_'+k]=dataframe[j]*dataframe[k]\n",
        "  return dataframe\n"
      ],
      "metadata": {
        "id": "BXEUXSFLvunP"
      },
      "execution_count": null,
      "outputs": []
    },
    {
      "cell_type": "markdown",
      "source": [
        "## Load Data into Colab"
      ],
      "metadata": {
        "id": "qp3i_SCPwE6A"
      }
    },
    {
      "cell_type": "code",
      "source": [
        "df_house=create_dummy(Categorical='YrSold', dataframe=df_house)"
      ],
      "metadata": {
        "id": "TiKVA8H-KiPj"
      },
      "execution_count": null,
      "outputs": []
    },
    {
      "cell_type": "code",
      "source": [
        "house_data_path='https://raw.githubusercontent.com/data-doctors/kaggle-house-prices-advanced-regression-techniques/master/data/train.csv'\n",
        "df_house=pd.read_csv(house_data_path) # invoke Pandas and use read_csv() method passing in the parameter of the csv location, in this case a url address\n",
        "df_house.head(1) # Visually Inspect that it loaded correctly\n",
        "#df_house.info() # info() is prefered to .dtypes method because info() gives null counts and dtypes and does not cut the output shortd\n",
        "\n",
        "# feature engineering age\n",
        "df_house['age']=df_house['YrSold']-df_house['YearBuilt'] # Age of house when sold\n",
        "df_house['SF']=df_house['1stFlrSF']+df_house['2ndFlrSF'] # Total Square Feet\n",
        "df_house['baths']=df_house['FullBath']+df_house['HalfBath'] # Total Number of Bathrooms\n",
        "df_house['constant']=1 # add a constant for later use in the regressions\n",
        "\n",
        "df_house = create_dummy(Categorical='SaleCondition', dataframe=df_house)\n",
        "\n",
        "df_house = create_dummy(Categorical='RoofStyle', dataframe=df_house)\n",
        "df_house = create_dummy(Categorical='Neighborhood', dataframe=df_house)\n",
        "\n",
        "df_house = interact(D=['Abnorml'], X=['SF'], dataframe=df_house)\n",
        "df_house = interact(D=['Abnorml'], X=['age'], dataframe=df_house)\n",
        "\n",
        "df_house['YrSold']=df_house['YrSold'].astype(str) # YrSold as string so that we can transform it into a dummy variable\n",
        "\n",
        "# Need to transform the numeric MoSold into meaningful strings I do this in two parts\n",
        "def month(X): # first define a function 'month()' \n",
        "  if X==1:\n",
        "    return 'Jan'\n",
        "  elif X==2:\n",
        "    return 'Feb'\n",
        "  elif X==3:\n",
        "    return 'Mar'\n",
        "  elif X==4:\n",
        "    return 'Apr'\n",
        "  elif X==5:\n",
        "    return 'May'\n",
        "  elif X==6:\n",
        "    return 'Jun'\n",
        "  elif X==7:\n",
        "    return 'Jul'\n",
        "  elif X==8:\n",
        "    return 'Aug'\n",
        "  elif X==9:\n",
        "    return 'Sep'\n",
        "  elif X==10:\n",
        "    return 'Oct'\n",
        "  elif X==11:\n",
        "    return 'Nov'\n",
        "  else:\n",
        "    return 'Dec'\n",
        "\n",
        "# second: apply the month() function to 'MoSold' column using the method 'apply(lambda x: function(x))' method\n",
        "df_house['MoSold'] = df_house['MoSold'].apply(lambda x: month(x))\n",
        "\n",
        "# take a look at the transformed data df_house['MoSold'].head()"
      ],
      "metadata": {
        "id": "1cQYdYSMWmlL"
      },
      "execution_count": null,
      "outputs": []
    },
    {
      "cell_type": "markdown",
      "source": [
        "# Descriptive Statistics\n",
        "Answer the following questions.  To receive credit, you need to show your code and write a short answer.  A single question should be associated with only one code block.  "
      ],
      "metadata": {
        "id": "AGO3Qd_mNpIA"
      }
    },
    {
      "cell_type": "markdown",
      "source": [
        "## Example Question and Answer:\n",
        "Which neighborhood has the highest average sales price?"
      ],
      "metadata": {
        "id": "5FJ7HJS3N_yz"
      }
    },
    {
      "cell_type": "markdown",
      "source": [
        "### Example Answer: \n",
        "NoRidge has the highest average price of $335,295.  See Code-block below for support"
      ],
      "metadata": {
        "id": "e8_LHMD-PI-g"
      }
    },
    {
      "cell_type": "code",
      "source": [
        "Neighborhood_list = df_house['Neighborhood'].unique()\n",
        "\n",
        "for i in Neighborhood_list:\n",
        "  print( i + '   average price = ' + str(df_house.loc[df_house['Neighborhood']==i]['SalePrice'].mean()))"
      ],
      "metadata": {
        "colab": {
          "base_uri": "https://localhost:8080/"
        },
        "id": "tJ9pIXXjOSVT",
        "outputId": "b6cdcc66-4e90-453b-dd86-9ce43667fe66"
      },
      "execution_count": null,
      "outputs": [
        {
          "output_type": "stream",
          "name": "stdout",
          "text": [
            "CollgCr   average price = 197965.77333333335\n",
            "Veenker   average price = 238772.72727272726\n",
            "Crawfor   average price = 210624.72549019608\n",
            "NoRidge   average price = 335295.31707317074\n",
            "Mitchel   average price = 156270.1224489796\n",
            "Somerst   average price = 225379.83720930232\n",
            "NWAmes   average price = 189050.0684931507\n",
            "OldTown   average price = 128225.30088495575\n",
            "BrkSide   average price = 124834.05172413793\n",
            "Sawyer   average price = 136793.13513513515\n",
            "NridgHt   average price = 316270.6233766234\n",
            "NAmes   average price = 145847.08\n",
            "SawyerW   average price = 186555.7966101695\n",
            "IDOTRR   average price = 100123.78378378379\n",
            "MeadowV   average price = 98576.4705882353\n",
            "Edwards   average price = 128219.7\n",
            "Timber   average price = 242247.44736842104\n",
            "Gilbert   average price = 192854.50632911394\n",
            "StoneBr   average price = 310499.0\n",
            "ClearCr   average price = 212565.42857142858\n",
            "NPkVill   average price = 142694.44444444444\n",
            "Blmngtn   average price = 194870.88235294117\n",
            "BrDale   average price = 104493.75\n",
            "SWISU   average price = 142591.36\n",
            "Blueste   average price = 137500.0\n"
          ]
        }
      ]
    },
    {
      "cell_type": "markdown",
      "source": [
        "## Question 1:  \n",
        "Which month are the most houses sold? "
      ],
      "metadata": {
        "id": "n3ZKinI_P0iw"
      }
    },
    {
      "cell_type": "markdown",
      "source": [
        "Answer: Out of all the months, June yields the most houses sold at 253 houses. See Code-block below."
      ],
      "metadata": {
        "id": "64HtTyaSyKPt"
      }
    },
    {
      "cell_type": "code",
      "source": [
        "df_house['MoSold'].value_counts()"
      ],
      "metadata": {
        "id": "-l64NJriDuUX",
        "colab": {
          "base_uri": "https://localhost:8080/"
        },
        "outputId": "f63deda9-30db-4c09-9458-915c83d97c59"
      },
      "execution_count": 22,
      "outputs": [
        {
          "output_type": "execute_result",
          "data": {
            "text/plain": [
              "Jun    253\n",
              "Jul    234\n",
              "May    204\n",
              "Apr    141\n",
              "Aug    122\n",
              "Mar    106\n",
              "Oct     89\n",
              "Nov     79\n",
              "Sep     63\n",
              "Dec     59\n",
              "Jan     58\n",
              "Feb     52\n",
              "Name: MoSold, dtype: int64"
            ]
          },
          "metadata": {},
          "execution_count": 22
        }
      ]
    },
    {
      "cell_type": "markdown",
      "source": [
        "## Question 2: \n",
        "Which year are the most houses sold?"
      ],
      "metadata": {
        "id": "wyaftMGVP_bu"
      }
    },
    {
      "cell_type": "markdown",
      "source": [
        "Answer: Out of all other years, 2009 has the most houses sold at 338 houses."
      ],
      "metadata": {
        "id": "ZzBOXgdGRNjy"
      }
    },
    {
      "cell_type": "code",
      "source": [
        "df_house['YrSold'].value_counts()"
      ],
      "metadata": {
        "id": "a128hsLuP14m",
        "outputId": "9e34eb91-8447-4c6d-c25b-53c0ad09e021",
        "colab": {
          "base_uri": "https://localhost:8080/"
        }
      },
      "execution_count": null,
      "outputs": [
        {
          "output_type": "execute_result",
          "data": {
            "text/plain": [
              "2009    338\n",
              "2007    329\n",
              "2006    314\n",
              "2008    304\n",
              "2010    175\n",
              "Name: YrSold, dtype: int64"
            ]
          },
          "metadata": {},
          "execution_count": 12
        }
      ]
    },
    {
      "cell_type": "markdown",
      "source": [
        "## Question 3\n",
        "In which neighborhood are prices most dispersed or spread out?"
      ],
      "metadata": {
        "id": "tlXPR-x4QR8-"
      }
    },
    {
      "cell_type": "markdown",
      "source": [
        "Answer: According to the standard deviation of 'Neighborhood', NoRidge is the most dispersed and spread out as it has the highest standard deviation. see code-block for supporting results. "
      ],
      "metadata": {
        "id": "OaVNeGxv2BP0"
      }
    },
    {
      "cell_type": "code",
      "source": [
        "Neighborhood_list = df_house['Neighborhood'].unique()\n",
        "\n",
        "for i in Neighborhood_list:\n",
        "  print( i + '  standard deviation = ' + str(df_house.loc[df_house['Neighborhood']==i]['SalePrice'].std()))"
      ],
      "metadata": {
        "id": "EW7wZDXFWMv4",
        "outputId": "5b74cf37-75aa-4a8c-e477-e9bd69927175",
        "colab": {
          "base_uri": "https://localhost:8080/"
        }
      },
      "execution_count": 31,
      "outputs": [
        {
          "output_type": "stream",
          "name": "stdout",
          "text": [
            "CollgCr  standard deviation = 51403.66643820808\n",
            "Veenker  standard deviation = 72369.31795877437\n",
            "Crawfor  standard deviation = 68866.39547212512\n",
            "NoRidge  standard deviation = 121412.65864036564\n",
            "Mitchel  standard deviation = 36486.625333602635\n",
            "Somerst  standard deviation = 56177.555888212046\n",
            "NWAmes  standard deviation = 37172.21810645118\n",
            "OldTown  standard deviation = 52650.58318492048\n",
            "BrkSide  standard deviation = 40348.689270401126\n",
            "Sawyer  standard deviation = 22345.129156542913\n",
            "NridgHt  standard deviation = 96392.54495442321\n",
            "NAmes  standard deviation = 33075.34545026379\n",
            "SawyerW  standard deviation = 55651.99781951001\n",
            "IDOTRR  standard deviation = 33376.71011693228\n",
            "MeadowV  standard deviation = 23491.049609685513\n",
            "Edwards  standard deviation = 43208.61645867323\n",
            "Timber  standard deviation = 64845.651549263544\n",
            "Gilbert  standard deviation = 35986.779085100556\n",
            "StoneBr  standard deviation = 112969.67664045958\n",
            "ClearCr  standard deviation = 50231.53899282105\n",
            "NPkVill  standard deviation = 9377.31452910575\n",
            "Blmngtn  standard deviation = 30393.22921902663\n",
            "BrDale  standard deviation = 14330.176493446734\n",
            "SWISU  standard deviation = 32622.91767924302\n",
            "Blueste  standard deviation = 19091.883092036784\n"
          ]
        }
      ]
    },
    {
      "cell_type": "markdown",
      "source": [
        "## Question 4\n",
        "Which year has the lowest average sales price?  Which year has the highest?"
      ],
      "metadata": {
        "id": "hBqQVtBdQeQ9"
      }
    },
    {
      "cell_type": "markdown",
      "source": [
        "Answer: 2008 has the lowest average sales price. See Code-Block below for support "
      ],
      "metadata": {
        "id": "ebO4VyILQ2FG"
      }
    },
    {
      "cell_type": "code",
      "source": [
        "year_sold = df_house['YrSold'].unique()\n",
        "\n",
        "for i in year_sold:\n",
        "  print( i + '   average price = ' + str(df_house.loc[df_house['YrSold']==i]['SalePrice'].mean()))"
      ],
      "metadata": {
        "id": "MBdJC7k9pRTz",
        "outputId": "254ff6ac-92e2-4f95-ee37-27585cab5cce",
        "colab": {
          "base_uri": "https://localhost:8080/"
        }
      },
      "execution_count": null,
      "outputs": [
        {
          "output_type": "stream",
          "name": "stdout",
          "text": [
            "2008   average price = 177360.83881578947\n",
            "2007   average price = 186063.1519756839\n",
            "2006   average price = 182549.4585987261\n",
            "2009   average price = 179432.10355029587\n",
            "2010   average price = 177393.67428571428\n"
          ]
        }
      ]
    },
    {
      "cell_type": "markdown",
      "source": [
        "# Predictive Modeling\n",
        "\n",
        "\n",
        "\n"
      ],
      "metadata": {
        "id": "Gsf4zhTDR-0B"
      }
    },
    {
      "cell_type": "markdown",
      "source": [
        "## Question 5: \n",
        "Evaluate which model makes the most accurate in-sample predictions (Model 1, 2 or 3). Support your answers with an appropriate metric.   \n",
        "\n",
        "**Read the model definitions and variable definitions CAREFULLY to make sure your equation matches the model** and to avoid a misspecification.  You might need to define your own variables at times.  Some work has already been done in the beginning of this workbook but not all of it.  Attention to detail or lack thereof will matter here. \n"
      ],
      "metadata": {
        "id": "YZ7Ix0_WrD3J"
      }
    },
    {
      "cell_type": "markdown",
      "source": [
        "Answer: Model 3 is  the most accurate predictor. With a MSE of 21.08 being the lowest out of the three, meaning it holds the lowest average of the squares of the error. I also has the highest R-squared value which means it has a 77.3% accuracy for prediction."
      ],
      "metadata": {
        "id": "uZy86Bx0449G"
      }
    },
    {
      "cell_type": "markdown",
      "source": [
        "##Variable Definitions\n",
        "\n",
        "$WoodDeckSF$ is a continuous variable for Square Footage of Wood Deck on the house. \n",
        "\n",
        "$SF$ is total square feet of house \n",
        "\n",
        "$Age$ is defined as Year Sold minus Year Built \n",
        "\n",
        "$Abnorml$ is a dummy equal to one if df_house['SaleCondition']=='Abnorml' and zero otherwise  \n",
        "\n",
        "$Neigh_i$ is a dummy variable for the $i^{th}$ type of Neighborhood.  I ommitted several neighborhoods and note that my summation goes from 6 to 25 so that the subscripts numbering on my $\\beta$'s match with the numbering in the equation.  Refer to the \"Base Model\" to see which neighborhoods are contained in this set.  \n",
        "\n",
        "$Year_{2006}$ is a dummy equal to one if the house was sold in 2006.  Other year dummies are defined in the same way according to the subscript in the equation.  \n",
        "\n",
        "$Month_k$ is a dummy for month sold, with the omitted category being January.\n",
        "\n",
        "$Baths$ is the number of bathrooms the house has\n",
        "\n",
        "$Hip$ is a dummy equal to one if the house has a hip roof and zero otherwise\n",
        "\n",
        "$Updated$ is equal to 'YearSold' minus 'YearRemodAdd'"
      ],
      "metadata": {
        "id": "liB0yfIArLCj"
      }
    },
    {
      "cell_type": "markdown",
      "source": [
        "## Model 1\n",
        "$SalePrice = \\beta_0 + \\beta_1 WoodDeckSF + \\beta_2 SF + \\beta_3 Age + \\beta_4 Abnorml + \\beta_5 (Abnorml \\times SF) + \\Sigma_{i=6}^{i=25}\\beta_i Neigh_i + \\beta_{26} Baths + \\epsilon$\n",
        "\n"
      ],
      "metadata": {
        "id": "gM0t1kzR_SOh"
      }
    },
    {
      "cell_type": "code",
      "source": [
        "model(X=df_house[['constant','WoodDeckSF','SF','age', 'Abnorml', 'Abnorml_SF','CollgCr', 'Crawfor', 'NoRidge', 'Mitchel', 'Somerst',\n",
        "       'NWAmes', 'OldTown', 'BrkSide', 'Sawyer', 'NridgHt', 'NAmes',\n",
        "       'SawyerW', 'IDOTRR', 'MeadowV', 'Edwards', 'Timber', 'Gilbert',\n",
        "       'StoneBr', 'ClearCr', 'SWISU','baths']], Y=df_house['SalePrice'])"
      ],
      "metadata": {
        "colab": {
          "base_uri": "https://localhost:8080/",
          "height": 1000
        },
        "id": "UFXmMGz9_nHX",
        "outputId": "5a73cec9-f8d2-4fab-b5ed-9229151d65f6"
      },
      "execution_count": null,
      "outputs": [
        {
          "output_type": "stream",
          "name": "stdout",
          "text": [
            "                            GLS Regression Results                            \n",
            "==============================================================================\n",
            "Dep. Variable:              SalePrice   R-squared:                       0.760\n",
            "Model:                            GLS   Adj. R-squared:                  0.755\n",
            "Method:                 Least Squares   F-statistic:                     174.4\n",
            "Date:                Mon, 05 Dec 2022   Prob (F-statistic):               0.00\n",
            "Time:                        14:45:02   Log-Likelihood:                -17503.\n",
            "No. Observations:                1460   AIC:                         3.506e+04\n",
            "Df Residuals:                    1433   BIC:                         3.520e+04\n",
            "Df Model:                          26                                         \n",
            "Covariance Type:            nonrobust                                         \n",
            "==============================================================================\n",
            "                 coef    std err          t      P>|t|      [0.025      0.975]\n",
            "------------------------------------------------------------------------------\n",
            "constant    8.732e+04   6876.899     12.698      0.000    7.38e+04    1.01e+05\n",
            "WoodDeckSF    49.5443      8.843      5.603      0.000      32.198      66.890\n",
            "SF            86.7462      3.268     26.547      0.000      80.336      93.156\n",
            "age         -742.6026     72.043    -10.308      0.000    -883.924    -601.281\n",
            "Abnorml     -2.99e+04   1.09e+04     -2.739      0.006   -5.13e+04   -8485.506\n",
            "Abnorml_SF    11.1106      7.113      1.562      0.118      -2.841      25.063\n",
            "CollgCr     8215.0461   6292.126      1.306      0.192   -4127.719    2.06e+04\n",
            "Crawfor     3.697e+04   8407.811      4.397      0.000    2.05e+04    5.35e+04\n",
            "NoRidge     6.301e+04   8624.927      7.306      0.000    4.61e+04    7.99e+04\n",
            "Mitchel    -1.038e+04   7817.243     -1.328      0.185   -2.57e+04    4955.993\n",
            "Somerst     2.788e+04   6974.576      3.997      0.000    1.42e+04    4.16e+04\n",
            "NWAmes      -914.7062   7110.813     -0.129      0.898   -1.49e+04     1.3e+04\n",
            "OldTown    -6566.1994   7934.941     -0.828      0.408   -2.21e+04    8999.146\n",
            "BrkSide     3466.1047   8441.929      0.411      0.681   -1.31e+04       2e+04\n",
            "Sawyer     -1.014e+04   7244.043     -1.400      0.162   -2.44e+04    4068.420\n",
            "NridgHt     8.437e+04   7257.968     11.624      0.000    7.01e+04    9.86e+04\n",
            "NAmes      -4148.8590   6312.954     -0.657      0.511   -1.65e+04    8234.763\n",
            "SawyerW    -4747.0927   7403.403     -0.641      0.521   -1.93e+04    9775.577\n",
            "IDOTRR     -8075.0561   9402.596     -0.859      0.391   -2.65e+04    1.04e+04\n",
            "MeadowV    -4.224e+04    1.1e+04     -3.847      0.000   -6.38e+04   -2.07e+04\n",
            "Edwards    -2.143e+04   7019.947     -3.052      0.002   -3.52e+04   -7654.821\n",
            "Timber      3.324e+04   8394.003      3.961      0.000    1.68e+04    4.97e+04\n",
            "Gilbert    -3579.1093   7025.208     -0.509      0.611   -1.74e+04    1.02e+04\n",
            "StoneBr     8.564e+04   9653.112      8.872      0.000    6.67e+04    1.05e+05\n",
            "ClearCr     1.576e+04   9377.530      1.680      0.093   -2638.195    3.42e+04\n",
            "SWISU      -1.207e+04   1.05e+04     -1.152      0.250   -3.26e+04    8482.409\n",
            "baths      -1.122e+04   2264.995     -4.955      0.000   -1.57e+04   -6779.948\n",
            "==============================================================================\n",
            "Omnibus:                      384.299   Durbin-Watson:                   2.004\n",
            "Prob(Omnibus):                  0.000   Jarque-Bera (JB):            11400.191\n",
            "Skew:                           0.576   Prob(JB):                         0.00\n",
            "Kurtosis:                      16.641   Cond. No.                     4.01e+04\n",
            "==============================================================================\n",
            "\n",
            "Notes:\n",
            "[1] Standard Errors assume that the covariance matrix of the errors is correctly specified.\n",
            "[2] The condition number is large, 4.01e+04. This might indicate that there are\n",
            "strong multicollinearity or other numerical problems.\n"
          ]
        },
        {
          "output_type": "stream",
          "name": "stderr",
          "text": [
            "/usr/local/lib/python3.8/dist-packages/seaborn/distributions.py:2619: FutureWarning: `distplot` is a deprecated function and will be removed in a future version. Please adapt your code to use either `displot` (a figure-level function with similar flexibility) or `kdeplot` (an axes-level function for kernel density plots).\n",
            "  warnings.warn(msg, FutureWarning)\n",
            "/usr/local/lib/python3.8/dist-packages/seaborn/distributions.py:2619: FutureWarning: `distplot` is a deprecated function and will be removed in a future version. Please adapt your code to use either `displot` (a figure-level function with similar flexibility) or `kdeplot` (an axes-level function for kernel density plots).\n",
            "  warnings.warn(msg, FutureWarning)\n"
          ]
        },
        {
          "output_type": "display_data",
          "data": {
            "text/plain": [
              "<Figure size 432x288 with 1 Axes>"
            ],
            "image/png": "[encoded data removed]"
          },
          "metadata": {
            "needs_background": "light"
          }
        },
        {
          "output_type": "stream",
          "name": "stdout",
          "text": [
            "log(MSE)=21.138391062295902\n"
          ]
        }
      ]
    },
    {
      "cell_type": "markdown",
      "source": [
        "## Model 2\n",
        "$SalePrice = \\beta_0 + \\beta_1 WoodDeckSF + \\beta_2 SF + \\beta_3 Age + \\beta_4 Abnorml + \\beta_5 (Abnorml \\times SF) + \\Sigma_{i=6}^{i=25}\\beta_i Neigh_i +\\beta_{26} Year_{2006} + \\beta_{27} Year_{2007}  + \\beta_{28} Year_{2008} +  + \\beta_{29} Year_{2009} + \\Sigma_{k=30}^{k=41}\\beta_k Month_k + \\beta_{41} Baths + \\epsilon$ *italicized text*\n",
        "\n"
      ],
      "metadata": {
        "id": "-9MjUR8q3h92"
      }
    },
    {
      "cell_type": "code",
      "source": [
        "df_house['MoSold'].value_counts()"
      ],
      "metadata": {
        "colab": {
          "base_uri": "https://localhost:8080/"
        },
        "id": "c2rIXBlo4HSR",
        "outputId": "b9c44e1e-ce47-49df-8d4a-41a92c891e6f"
      },
      "execution_count": 50,
      "outputs": [
        {
          "output_type": "execute_result",
          "data": {
            "text/plain": [
              "Jun    253\n",
              "Jul    234\n",
              "May    204\n",
              "Apr    141\n",
              "Aug    122\n",
              "Mar    106\n",
              "Oct     89\n",
              "Nov     79\n",
              "Sep     63\n",
              "Dec     59\n",
              "Jan     58\n",
              "Feb     52\n",
              "Name: MoSold, dtype: int64"
            ]
          },
          "metadata": {},
          "execution_count": 50
        }
      ]
    },
    {
      "cell_type": "code",
      "source": [
        "df_house=pd.get_dummies(df_house['MoSold']).join(df_house)"
      ],
      "metadata": {
        "id": "03rTvV1T3S9Y"
      },
      "execution_count": 43,
      "outputs": []
    },
    {
      "cell_type": "code",
      "source": [
        "model(X=df_house[['constant','WoodDeckSF','SF','age', 'Abnorml', 'Abnorml_SF','CollgCr', 'Crawfor', 'NoRidge', 'Mitchel', 'Somerst',\n",
        "       'NWAmes', 'OldTown', 'BrkSide', 'Sawyer', 'NridgHt', 'NAmes',\n",
        "       'SawyerW', 'IDOTRR', 'MeadowV', 'Edwards', 'Timber', 'Gilbert',\n",
        "       'StoneBr', 'ClearCr', 'SWISU','2006','2007','2008','2009','Jan','Feb','Mar','Apr','May','Jul','Aug','Sep','Oct','Nov','Dec','baths']], Y=df_house['SalePrice'])"
      ],
      "metadata": {
        "id": "ksmykyU2EX7I",
        "outputId": "06e3d071-df83-44a0-be1c-362f4fc98389",
        "colab": {
          "base_uri": "https://localhost:8080/",
          "height": 1000
        }
      },
      "execution_count": 51,
      "outputs": [
        {
          "output_type": "stream",
          "name": "stdout",
          "text": [
            "                            GLS Regression Results                            \n",
            "==============================================================================\n",
            "Dep. Variable:              SalePrice   R-squared:                       0.761\n",
            "Model:                            GLS   Adj. R-squared:                  0.754\n",
            "Method:                 Least Squares   F-statistic:                     110.3\n",
            "Date:                Mon, 05 Dec 2022   Prob (F-statistic):               0.00\n",
            "Time:                        15:23:39   Log-Likelihood:                -17498.\n",
            "No. Observations:                1460   AIC:                         3.508e+04\n",
            "Df Residuals:                    1418   BIC:                         3.530e+04\n",
            "Df Model:                          41                                         \n",
            "Covariance Type:            nonrobust                                         \n",
            "==============================================================================\n",
            "                 coef    std err          t      P>|t|      [0.025      0.975]\n",
            "------------------------------------------------------------------------------\n",
            "constant     8.55e+04   8016.778     10.665      0.000    6.98e+04    1.01e+05\n",
            "WoodDeckSF    49.6885      8.897      5.585      0.000      32.236      67.141\n",
            "SF            86.6887      3.293     26.327      0.000      80.229      93.148\n",
            "age         -761.3102     73.262    -10.392      0.000    -905.024    -617.597\n",
            "Abnorml     -3.02e+04   1.11e+04     -2.733      0.006   -5.19e+04   -8522.553\n",
            "Abnorml_SF    11.4369      7.171      1.595      0.111      -2.631      25.505\n",
            "CollgCr     8259.0344   6342.471      1.302      0.193   -4182.601    2.07e+04\n",
            "Crawfor     3.957e+04   8517.686      4.646      0.000    2.29e+04    5.63e+04\n",
            "NoRidge     6.387e+04   8706.974      7.336      0.000    4.68e+04     8.1e+04\n",
            "Mitchel    -9585.2512   7853.193     -1.221      0.222    -2.5e+04    5819.873\n",
            "Somerst      2.87e+04   7025.784      4.085      0.000    1.49e+04    4.25e+04\n",
            "NWAmes       274.9079   7174.982      0.038      0.969   -1.38e+04    1.43e+04\n",
            "OldTown    -4540.9141   8015.836     -0.566      0.571   -2.03e+04    1.12e+04\n",
            "BrkSide     4002.0004   8495.189      0.471      0.638   -1.27e+04    2.07e+04\n",
            "Sawyer     -9263.5684   7299.839     -1.269      0.205   -2.36e+04    5056.076\n",
            "NridgHt     8.529e+04   7330.697     11.634      0.000    7.09e+04    9.97e+04\n",
            "NAmes      -3170.8236   6368.219     -0.498      0.619   -1.57e+04    9321.318\n",
            "SawyerW    -4277.5771   7464.097     -0.573      0.567   -1.89e+04    1.04e+04\n",
            "IDOTRR     -6100.5475   9499.662     -0.642      0.521   -2.47e+04    1.25e+04\n",
            "MeadowV     -4.13e+04    1.1e+04     -3.738      0.000    -6.3e+04   -1.96e+04\n",
            "Edwards    -2.085e+04   7058.338     -2.953      0.003   -3.47e+04   -7000.682\n",
            "Timber      3.332e+04   8438.569      3.949      0.000    1.68e+04    4.99e+04\n",
            "Gilbert    -3046.6648   7059.991     -0.432      0.666   -1.69e+04    1.08e+04\n",
            "StoneBr     8.725e+04   9773.607      8.928      0.000    6.81e+04    1.06e+05\n",
            "ClearCr     1.736e+04   9475.150      1.833      0.067   -1223.057     3.6e+04\n",
            "SWISU       -1.06e+04   1.06e+04     -1.003      0.316   -3.13e+04    1.01e+04\n",
            "2006       -1222.2223   3932.952     -0.311      0.756   -8937.252    6492.808\n",
            "2007       -1591.0120   3903.760     -0.408      0.684   -9248.778    6066.754\n",
            "2008        1889.4663   3934.181      0.480      0.631   -5827.974    9606.907\n",
            "2009          52.5981   3897.545      0.013      0.989   -7592.975    7698.171\n",
            "Jan         4585.7808   5803.228      0.790      0.430   -6798.053     1.6e+04\n",
            "Feb         -406.4267   6080.658     -0.067      0.947   -1.23e+04    1.15e+04\n",
            "Mar           10.0458   4607.291      0.002      0.998   -9027.794    9047.886\n",
            "Apr         1676.7267   4203.683      0.399      0.690   -6569.380    9922.833\n",
            "May         7096.9794   3776.520      1.879      0.060    -311.188    1.45e+04\n",
            "Jul         3894.3474   3628.191      1.073      0.283   -3222.850     1.1e+04\n",
            "Aug        -2311.2535   4410.181     -0.524      0.600    -1.1e+04    6339.926\n",
            "Sep         1931.5958   5637.846      0.343      0.732   -9127.819     1.3e+04\n",
            "Oct          586.1980   4942.221      0.119      0.906   -9108.653    1.03e+04\n",
            "Nov         -958.3666   5146.228     -0.186      0.852   -1.11e+04    9136.672\n",
            "Dec         -279.8091   5763.573     -0.049      0.961   -1.16e+04     1.1e+04\n",
            "baths      -1.119e+04   2285.012     -4.897      0.000   -1.57e+04   -6707.574\n",
            "==============================================================================\n",
            "Omnibus:                      382.717   Durbin-Watson:                   2.003\n",
            "Prob(Omnibus):                  0.000   Jarque-Bera (JB):            11985.520\n",
            "Skew:                           0.550   Prob(JB):                         0.00\n",
            "Kurtosis:                      16.993   Cond. No.                     4.05e+04\n",
            "==============================================================================\n",
            "\n",
            "Notes:\n",
            "[1] Standard Errors assume that the covariance matrix of the errors is correctly specified.\n",
            "[2] The condition number is large, 4.05e+04. This might indicate that there are\n",
            "strong multicollinearity or other numerical problems.\n"
          ]
        },
        {
          "output_type": "stream",
          "name": "stderr",
          "text": [
            "/usr/local/lib/python3.8/dist-packages/seaborn/distributions.py:2619: FutureWarning: `distplot` is a deprecated function and will be removed in a future version. Please adapt your code to use either `displot` (a figure-level function with similar flexibility) or `kdeplot` (an axes-level function for kernel density plots).\n",
            "  warnings.warn(msg, FutureWarning)\n",
            "/usr/local/lib/python3.8/dist-packages/seaborn/distributions.py:2619: FutureWarning: `distplot` is a deprecated function and will be removed in a future version. Please adapt your code to use either `displot` (a figure-level function with similar flexibility) or `kdeplot` (an axes-level function for kernel density plots).\n",
            "  warnings.warn(msg, FutureWarning)\n"
          ]
        },
        {
          "output_type": "display_data",
          "data": {
            "text/plain": [
              "<Figure size 432x288 with 1 Axes>"
            ],
            "image/png": "[encoded data removed]"
          },
          "metadata": {
            "needs_background": "light"
          }
        },
        {
          "output_type": "stream",
          "name": "stdout",
          "text": [
            "log(MSE)=21.13222360868824\n"
          ]
        }
      ]
    },
    {
      "cell_type": "markdown",
      "source": [
        "## Model 3\n",
        "$SalePrice = \\beta_0 + \\beta_1 WoodDeckSF + \\beta_2 SF + \\beta_3 Age + \\beta_4 Abnorml + \\beta_5 Updated  + \\Sigma_{i=6}^{i=25}\\beta_i Neigh_i + + \\beta_{26} Year_{2006} + \\beta_{27} Year_{2007}  + \\beta_{28} Year_{2008} +  + \\beta_{29} Year_{2009} + \\Sigma_{k=30}^{k=41}\\beta_k Month_k + \\beta_{41} Baths + \\beta_{43} Hip + \\epsilon$"
      ],
      "metadata": {
        "id": "56_OtJA-5Vol"
      }
    },
    {
      "cell_type": "code",
      "source": [
        "df_house['Updated2006']=df_house['2006']-df_house['YearRemodAdd']\n",
        "df_house['Updated2007']=df_house['2007']-df_house['YearRemodAdd']\n",
        "df_house['Updated2008']=df_house['2008']-df_house['YearRemodAdd']\n",
        "df_house['Updated2009']=df_house['2009']-df_house['YearRemodAdd']"
      ],
      "metadata": {
        "id": "ODdsdUxgJhnW"
      },
      "execution_count": null,
      "outputs": []
    },
    {
      "cell_type": "code",
      "source": [
        "df_house['MoSold'].value_counts()"
      ],
      "metadata": {
        "id": "mJdgzqHhNmwH",
        "outputId": "9c3ca78e-fee3-4239-8f50-771d0563809f",
        "colab": {
          "base_uri": "https://localhost:8080/"
        }
      },
      "execution_count": null,
      "outputs": [
        {
          "output_type": "execute_result",
          "data": {
            "text/plain": [
              "Jun    253\n",
              "Jul    234\n",
              "May    204\n",
              "Apr    141\n",
              "Aug    122\n",
              "Mar    106\n",
              "Oct     89\n",
              "Nov     79\n",
              "Sep     63\n",
              "Dec     59\n",
              "Jan     58\n",
              "Feb     52\n",
              "Name: MoSold, dtype: int64"
            ]
          },
          "metadata": {},
          "execution_count": 20
        }
      ]
    },
    {
      "cell_type": "code",
      "source": [
        "model(X=df_house[['constant','WoodDeckSF','SF','age', 'Abnorml','CollgCr','Updated2006','Updated2007','Updated2008','Updated2009','Crawfor', 'NoRidge', 'Mitchel', 'Somerst',\n",
        "       'NWAmes', 'OldTown', 'BrkSide', 'Sawyer', 'NridgHt', 'NAmes',\n",
        "       'SawyerW', 'IDOTRR', 'MeadowV', 'Edwards', 'Timber', 'Gilbert',\n",
        "       'StoneBr', 'ClearCr', 'SWISU','Jan','Feb','Mar','Apr','May','Jul','Aug','Sep','Oct','Nov','Dec','baths','Hip']], Y=df_house['SalePrice'])"
      ],
      "metadata": {
        "id": "NMe5Thz-H3-r",
        "outputId": "6d4da024-74c6-4fc4-a241-98ec6893a596",
        "colab": {
          "base_uri": "https://localhost:8080/",
          "height": 1000
        }
      },
      "execution_count": 52,
      "outputs": [
        {
          "output_type": "stream",
          "name": "stdout",
          "text": [
            "                            GLS Regression Results                            \n",
            "==============================================================================\n",
            "Dep. Variable:              SalePrice   R-squared:                       0.773\n",
            "Model:                            GLS   Adj. R-squared:                  0.766\n",
            "Method:                 Least Squares   F-statistic:                     117.5\n",
            "Date:                Mon, 05 Dec 2022   Prob (F-statistic):               0.00\n",
            "Time:                        15:24:13   Log-Likelihood:                -17463.\n",
            "No. Observations:                1460   AIC:                         3.501e+04\n",
            "Df Residuals:                    1418   BIC:                         3.523e+04\n",
            "Df Model:                          41                                         \n",
            "Covariance Type:            nonrobust                                         \n",
            "===============================================================================\n",
            "                  coef    std err          t      P>|t|      [0.025      0.975]\n",
            "-------------------------------------------------------------------------------\n",
            "constant    -7.895e+05   1.32e+05     -5.982      0.000   -1.05e+06   -5.31e+05\n",
            "WoodDeckSF     43.9400      8.697      5.052      0.000      26.879      61.001\n",
            "SF             82.7409      3.204     25.820      0.000      76.455      89.027\n",
            "age          -578.1814     74.983     -7.711      0.000    -725.271    -431.091\n",
            "Abnorml     -1.132e+04   4075.951     -2.777      0.006   -1.93e+04   -3322.124\n",
            "CollgCr      6752.9603   6211.280      1.087      0.277   -5431.326    1.89e+04\n",
            "Updated2006   284.4811   1906.808      0.149      0.881   -3455.986    4024.949\n",
            "Updated2007 -1272.6145   1875.707     -0.678      0.498   -4952.073    2406.844\n",
            "Updated2008  1499.5701   1908.552      0.786      0.432   -2244.319    5243.459\n",
            "Updated2009  -949.7610   1850.658     -0.513      0.608   -4580.083    2680.561\n",
            "Crawfor       3.54e+04   8326.912      4.252      0.000    1.91e+04    5.17e+04\n",
            "NoRidge      6.345e+04   8471.739      7.490      0.000    4.68e+04    8.01e+04\n",
            "Mitchel     -9140.1900   7665.077     -1.192      0.233   -2.42e+04    5895.919\n",
            "Somerst      2.512e+04   6892.869      3.644      0.000    1.16e+04    3.86e+04\n",
            "NWAmes         20.0287   7015.568      0.003      0.998   -1.37e+04    1.38e+04\n",
            "OldTown     -9817.9523   7848.891     -1.251      0.211   -2.52e+04    5578.734\n",
            "BrkSide      4301.8532   8291.424      0.519      0.604    -1.2e+04    2.06e+04\n",
            "Sawyer      -1.144e+04   7124.214     -1.605      0.109   -2.54e+04    2537.596\n",
            "NridgHt       7.84e+04   7184.625     10.912      0.000    6.43e+04    9.25e+04\n",
            "NAmes       -2384.5834   6228.802     -0.383      0.702   -1.46e+04    9834.073\n",
            "SawyerW     -2952.5079   7268.770     -0.406      0.685   -1.72e+04    1.13e+04\n",
            "IDOTRR      -7935.2560   9255.713     -0.857      0.391   -2.61e+04    1.02e+04\n",
            "MeadowV     -3.747e+04   1.08e+04     -3.473      0.001   -5.86e+04   -1.63e+04\n",
            "Edwards     -2.145e+04   6890.813     -3.113      0.002    -3.5e+04   -7930.853\n",
            "Timber       2.986e+04   8250.352      3.619      0.000    1.37e+04     4.6e+04\n",
            "Gilbert     -4461.5334   6901.840     -0.646      0.518    -1.8e+04    9077.381\n",
            "StoneBr       8.29e+04   9518.630      8.710      0.000    6.42e+04    1.02e+05\n",
            "ClearCr      1.852e+04   9248.124      2.003      0.045     383.208    3.67e+04\n",
            "SWISU       -9674.4354   1.03e+04     -0.938      0.348   -2.99e+04    1.06e+04\n",
            "Jan          5381.1343   5663.621      0.950      0.342   -5728.842    1.65e+04\n",
            "Feb           -10.6941   5911.977     -0.002      0.999   -1.16e+04    1.16e+04\n",
            "Mar          -219.3940   4492.382     -0.049      0.961   -9031.822    8593.034\n",
            "Apr          2540.4999   4078.422      0.623      0.533   -5459.889    1.05e+04\n",
            "May          6073.2380   3673.268      1.653      0.098   -1132.386    1.33e+04\n",
            "Jul          3914.3668   3521.781      1.111      0.267   -2994.093    1.08e+04\n",
            "Aug         -1559.5612   4281.070     -0.364      0.716   -9957.472    6838.349\n",
            "Sep          1829.8991   5482.256      0.334      0.739   -8924.304    1.26e+04\n",
            "Oct           -46.0365   4795.879     -0.010      0.992   -9453.816    9361.743\n",
            "Nov           214.4587   5006.473      0.043      0.966   -9606.430       1e+04\n",
            "Dec          -250.0706   5600.152     -0.045      0.964   -1.12e+04    1.07e+04\n",
            "baths       -9653.7716   2259.879     -4.272      0.000   -1.41e+04   -5220.707\n",
            "Hip          1.497e+04   2714.993      5.514      0.000    9644.147    2.03e+04\n",
            "==============================================================================\n",
            "Omnibus:                      404.537   Durbin-Watson:                   1.985\n",
            "Prob(Omnibus):                  0.000   Jarque-Bera (JB):            15114.220\n",
            "Skew:                           0.568   Prob(JB):                         0.00\n",
            "Kurtosis:                      18.721   Cond. No.                     5.58e+05\n",
            "==============================================================================\n",
            "\n",
            "Notes:\n",
            "[1] Standard Errors assume that the covariance matrix of the errors is correctly specified.\n",
            "[2] The condition number is large, 5.58e+05. This might indicate that there are\n",
            "strong multicollinearity or other numerical problems.\n"
          ]
        },
        {
          "output_type": "stream",
          "name": "stderr",
          "text": [
            "/usr/local/lib/python3.8/dist-packages/seaborn/distributions.py:2619: FutureWarning: `distplot` is a deprecated function and will be removed in a future version. Please adapt your code to use either `displot` (a figure-level function with similar flexibility) or `kdeplot` (an axes-level function for kernel density plots).\n",
            "  warnings.warn(msg, FutureWarning)\n",
            "/usr/local/lib/python3.8/dist-packages/seaborn/distributions.py:2619: FutureWarning: `distplot` is a deprecated function and will be removed in a future version. Please adapt your code to use either `displot` (a figure-level function with similar flexibility) or `kdeplot` (an axes-level function for kernel density plots).\n",
            "  warnings.warn(msg, FutureWarning)\n"
          ]
        },
        {
          "output_type": "display_data",
          "data": {
            "text/plain": [
              "<Figure size 432x288 with 1 Axes>"
            ],
            "image/png": "[encoded data removed]"
          },
          "metadata": {
            "needs_background": "light"
          }
        },
        {
          "output_type": "stream",
          "name": "stdout",
          "text": [
            "log(MSE)=21.083862928078073\n"
          ]
        }
      ]
    },
    {
      "cell_type": "code",
      "source": [],
      "metadata": {
        "id": "VCH6oubE4zbv"
      },
      "execution_count": null,
      "outputs": []
    }
  ]
}